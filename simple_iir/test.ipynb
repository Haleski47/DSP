{
 "cells": [
  {
   "cell_type": "code",
   "execution_count": 1,
   "id": "4f05471d",
   "metadata": {},
   "outputs": [],
   "source": [
    "\n",
    "def iir_adc_pingan(din, ACS_N_IIR, y_r):\n",
    "    c = 1 / (2 ** (1 + ACS_N_IIR))\n",
    "    y = (din - y_r) * c + y_r\n",
    "    y = np.clip(y, -2**19 / 2**4, (2**19 - 1) / 2**4)\n",
    "    y = np.floor(y)\n",
    "    \n",
    "    # Uncomment if you want the 'ceil' version instead of 'floor'\n",
    "    # y = np.ceil(y)\n",
    "    \n",
    "    y_r = y\n",
    "    return y, y_r"
   ]
  },
  {
   "cell_type": "code",
   "execution_count": 2,
   "id": "7e378ff0",
   "metadata": {},
   "outputs": [],
   "source": [
    "import numpy as np\n",
    "class iir_pingan:\n",
    "    def __init__(self, ACS_N_IIR):\n",
    "        self.y1 = 0\n",
    "        self.c = 1 / (2 ** (1 + ACS_N_IIR))\n",
    "    \n",
    "    def process(self, din):\n",
    "        # 计算当前输出\n",
    "        y = (din - self.y1) * self.c + self.y1\n",
    "        # 更新历史值\n",
    "        self.y1 = y\n",
    "        return np.floor(y)"
   ]
  },
  {
   "cell_type": "code",
   "execution_count": 6,
   "id": "86415086",
   "metadata": {},
   "outputs": [],
   "source": [
    "class iir_rtl:\n",
    "    def __init__(self, ACS_N_IIR):\n",
    "        self.x2 = 0\n",
    "        self.c = 2**(3-ACS_N_IIR)\n",
    "    \n",
    "    def process(self, din):\n",
    "        x2 = (din - np.floor(self.x2/16)) * self.c + self.x2\n",
    "        self.x2 = x2\n",
    "\n",
    "        return np.floor(x2/16)"
   ]
  },
  {
   "cell_type": "code",
   "execution_count": 8,
   "id": "c50cdaa2",
   "metadata": {},
   "outputs": [
    {
     "data": {
      "text/plain": [
       "([np.float64(6806.0),\n",
       "  np.float64(10290.0),\n",
       "  np.float64(12111.0),\n",
       "  np.float64(13100.0)],\n",
       " [np.float64(6806.0),\n",
       "  np.float64(10291.0),\n",
       "  np.float64(12112.0),\n",
       "  np.float64(13101.0)])"
      ]
     },
     "execution_count": 8,
     "metadata": {},
     "output_type": "execute_result"
    }
   ],
   "source": [
    "iir_pingan_1 = iir_pingan(0)\n",
    "iir_rtl_1 = iir_rtl(0)\n",
    "adc_x = [13613, 13775, 13933, 14090]\n",
    "iir_x_pingan = [iir_pingan_1.process(sample) for sample in adc_x]\n",
    "iir_x_rtl = [iir_rtl_1.process(sample) for sample in adc_x]\n",
    "iir_x_pingan, iir_x_rtl\n"
   ]
  }
 ],
 "metadata": {
  "kernelspec": {
   "display_name": "Python 3",
   "language": "python",
   "name": "python3"
  },
  "language_info": {
   "codemirror_mode": {
    "name": "ipython",
    "version": 3
   },
   "file_extension": ".py",
   "mimetype": "text/x-python",
   "name": "python",
   "nbconvert_exporter": "python",
   "pygments_lexer": "ipython3",
   "version": "3.10.12"
  }
 },
 "nbformat": 4,
 "nbformat_minor": 5
}
